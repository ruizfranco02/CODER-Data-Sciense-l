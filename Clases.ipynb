{
  "nbformat": 4,
  "nbformat_minor": 0,
  "metadata": {
    "colab": {
      "provenance": [],
      "authorship_tag": "ABX9TyMmJ0ay+XX306rN7k1qfPUi",
      "include_colab_link": true
    },
    "kernelspec": {
      "name": "python3",
      "display_name": "Python 3"
    },
    "language_info": {
      "name": "python"
    }
  },
  "cells": [
    {
      "cell_type": "markdown",
      "metadata": {
        "id": "view-in-github",
        "colab_type": "text"
      },
      "source": [
        "<a href=\"https://colab.research.google.com/github/ruizfranco02/CODER-Data-Sciense-l/blob/main/Clases.ipynb\" target=\"_parent\"><img src=\"https://colab.research.google.com/assets/colab-badge.svg\" alt=\"Open In Colab\"/></a>"
      ]
    },
    {
      "cell_type": "markdown",
      "source": [
        "# Mi primer programa soy un crack"
      ],
      "metadata": {
        "id": "wteZepJ9e-ux"
      }
    },
    {
      "cell_type": "code",
      "source": [
        "print (\"Hello world!!\")\n"
      ],
      "metadata": {
        "id": "9_c-l8TuyHT-",
        "colab": {
          "base_uri": "https://localhost:8080/"
        },
        "outputId": "857dc88e-d16b-404c-d1d4-4d3aaf640b41"
      },
      "execution_count": null,
      "outputs": [
        {
          "output_type": "stream",
          "name": "stdout",
          "text": [
            "Hello world!!\n"
          ]
        }
      ]
    },
    {
      "cell_type": "code",
      "source": [
        "!ls -la"
      ],
      "metadata": {
        "colab": {
          "base_uri": "https://localhost:8080/"
        },
        "id": "k-XUboMKgLpN",
        "outputId": "bfbe16bc-e409-4207-9baf-89277b22ed1d"
      },
      "execution_count": null,
      "outputs": [
        {
          "output_type": "stream",
          "name": "stdout",
          "text": [
            "total 16\n",
            "drwxr-xr-x 1 root root 4096 Sep 16 13:40 .\n",
            "drwxr-xr-x 1 root root 4096 Sep 17 23:39 ..\n",
            "drwxr-xr-x 4 root root 4096 Sep 16 13:40 .config\n",
            "drwxr-xr-x 1 root root 4096 Sep 16 13:40 sample_data\n"
          ]
        }
      ]
    },
    {
      "cell_type": "markdown",
      "source": [
        "Santa Trinidad de Phyton Data\n",
        "- pandas -> herramienta para dataframes y manipulación de datos.\n",
        "- matplotlib -> herramienta de viz\n",
        "- sckit learn -> framework para data science"
      ],
      "metadata": {
        "id": "U7O80JZn87fs"
      }
    },
    {
      "cell_type": "code",
      "source": [
        "x=['EDA','Data Wrangling','Mineria datos','Limpieza Datos','SQL','Est. Inferencial','ML','DL','IA']\n",
        "y= [5,10,15,20,30,25,31,30,20]\n",
        "\n",
        "print (x)\n",
        "print (y)"
      ],
      "metadata": {
        "colab": {
          "base_uri": "https://localhost:8080/"
        },
        "id": "4RapLTS_9ojw",
        "outputId": "a001bc20-348b-45cd-e584-1ce415437724"
      },
      "execution_count": null,
      "outputs": [
        {
          "output_type": "stream",
          "name": "stdout",
          "text": [
            "['EDA', 'Data Wrangling', 'Mineria datos', 'Limpieza Datos', 'SQL', 'Est. Inferencial', 'ML', 'DL', 'IA']\n",
            "[5, 10, 15, 20, 30, 25, 31, 30, 20]\n"
          ]
        }
      ]
    },
    {
      "cell_type": "code",
      "source": [
        "import pandas as pd\n",
        "import matplotlib.pyplot as plt\n",
        "import seaborn as sns"
      ],
      "metadata": {
        "id": "QGCP3-Q399jO"
      },
      "execution_count": null,
      "outputs": []
    },
    {
      "cell_type": "code",
      "source": [
        "dataframe = pd.DataFrame ({'Conocimientos_previos':x, 'q_alumnos':y})\n",
        "dataframe"
      ],
      "metadata": {
        "colab": {
          "base_uri": "https://localhost:8080/",
          "height": 332
        },
        "id": "UB-4xqYs-MV7",
        "outputId": "4472a006-5170-4deb-adde-d28b52e56ee9"
      },
      "execution_count": null,
      "outputs": [
        {
          "output_type": "execute_result",
          "data": {
            "text/plain": [
              "  Conocimientos_previos  q_alumnos\n",
              "0                   EDA          5\n",
              "1        Data Wrangling         10\n",
              "2         Mineria datos         15\n",
              "3        Limpieza Datos         20\n",
              "4                   SQL         30\n",
              "5      Est. Inferencial         25\n",
              "6                    ML         31\n",
              "7                    DL         30\n",
              "8                    IA         20"
            ],
            "text/html": [
              "\n",
              "  <div id=\"df-8e7ec13d-0fb4-4629-9464-c52423cd00aa\" class=\"colab-df-container\">\n",
              "    <div>\n",
              "<style scoped>\n",
              "    .dataframe tbody tr th:only-of-type {\n",
              "        vertical-align: middle;\n",
              "    }\n",
              "\n",
              "    .dataframe tbody tr th {\n",
              "        vertical-align: top;\n",
              "    }\n",
              "\n",
              "    .dataframe thead th {\n",
              "        text-align: right;\n",
              "    }\n",
              "</style>\n",
              "<table border=\"1\" class=\"dataframe\">\n",
              "  <thead>\n",
              "    <tr style=\"text-align: right;\">\n",
              "      <th></th>\n",
              "      <th>Conocimientos_previos</th>\n",
              "      <th>q_alumnos</th>\n",
              "    </tr>\n",
              "  </thead>\n",
              "  <tbody>\n",
              "    <tr>\n",
              "      <th>0</th>\n",
              "      <td>EDA</td>\n",
              "      <td>5</td>\n",
              "    </tr>\n",
              "    <tr>\n",
              "      <th>1</th>\n",
              "      <td>Data Wrangling</td>\n",
              "      <td>10</td>\n",
              "    </tr>\n",
              "    <tr>\n",
              "      <th>2</th>\n",
              "      <td>Mineria datos</td>\n",
              "      <td>15</td>\n",
              "    </tr>\n",
              "    <tr>\n",
              "      <th>3</th>\n",
              "      <td>Limpieza Datos</td>\n",
              "      <td>20</td>\n",
              "    </tr>\n",
              "    <tr>\n",
              "      <th>4</th>\n",
              "      <td>SQL</td>\n",
              "      <td>30</td>\n",
              "    </tr>\n",
              "    <tr>\n",
              "      <th>5</th>\n",
              "      <td>Est. Inferencial</td>\n",
              "      <td>25</td>\n",
              "    </tr>\n",
              "    <tr>\n",
              "      <th>6</th>\n",
              "      <td>ML</td>\n",
              "      <td>31</td>\n",
              "    </tr>\n",
              "    <tr>\n",
              "      <th>7</th>\n",
              "      <td>DL</td>\n",
              "      <td>30</td>\n",
              "    </tr>\n",
              "    <tr>\n",
              "      <th>8</th>\n",
              "      <td>IA</td>\n",
              "      <td>20</td>\n",
              "    </tr>\n",
              "  </tbody>\n",
              "</table>\n",
              "</div>\n",
              "    <div class=\"colab-df-buttons\">\n",
              "\n",
              "  <div class=\"colab-df-container\">\n",
              "    <button class=\"colab-df-convert\" onclick=\"convertToInteractive('df-8e7ec13d-0fb4-4629-9464-c52423cd00aa')\"\n",
              "            title=\"Convert this dataframe to an interactive table.\"\n",
              "            style=\"display:none;\">\n",
              "\n",
              "  <svg xmlns=\"http://www.w3.org/2000/svg\" height=\"24px\" viewBox=\"0 -960 960 960\">\n",
              "    <path d=\"M120-120v-720h720v720H120Zm60-500h600v-160H180v160Zm220 220h160v-160H400v160Zm0 220h160v-160H400v160ZM180-400h160v-160H180v160Zm440 0h160v-160H620v160ZM180-180h160v-160H180v160Zm440 0h160v-160H620v160Z\"/>\n",
              "  </svg>\n",
              "    </button>\n",
              "\n",
              "  <style>\n",
              "    .colab-df-container {\n",
              "      display:flex;\n",
              "      gap: 12px;\n",
              "    }\n",
              "\n",
              "    .colab-df-convert {\n",
              "      background-color: #E8F0FE;\n",
              "      border: none;\n",
              "      border-radius: 50%;\n",
              "      cursor: pointer;\n",
              "      display: none;\n",
              "      fill: #1967D2;\n",
              "      height: 32px;\n",
              "      padding: 0 0 0 0;\n",
              "      width: 32px;\n",
              "    }\n",
              "\n",
              "    .colab-df-convert:hover {\n",
              "      background-color: #E2EBFA;\n",
              "      box-shadow: 0px 1px 2px rgba(60, 64, 67, 0.3), 0px 1px 3px 1px rgba(60, 64, 67, 0.15);\n",
              "      fill: #174EA6;\n",
              "    }\n",
              "\n",
              "    .colab-df-buttons div {\n",
              "      margin-bottom: 4px;\n",
              "    }\n",
              "\n",
              "    [theme=dark] .colab-df-convert {\n",
              "      background-color: #3B4455;\n",
              "      fill: #D2E3FC;\n",
              "    }\n",
              "\n",
              "    [theme=dark] .colab-df-convert:hover {\n",
              "      background-color: #434B5C;\n",
              "      box-shadow: 0px 1px 3px 1px rgba(0, 0, 0, 0.15);\n",
              "      filter: drop-shadow(0px 1px 2px rgba(0, 0, 0, 0.3));\n",
              "      fill: #FFFFFF;\n",
              "    }\n",
              "  </style>\n",
              "\n",
              "    <script>\n",
              "      const buttonEl =\n",
              "        document.querySelector('#df-8e7ec13d-0fb4-4629-9464-c52423cd00aa button.colab-df-convert');\n",
              "      buttonEl.style.display =\n",
              "        google.colab.kernel.accessAllowed ? 'block' : 'none';\n",
              "\n",
              "      async function convertToInteractive(key) {\n",
              "        const element = document.querySelector('#df-8e7ec13d-0fb4-4629-9464-c52423cd00aa');\n",
              "        const dataTable =\n",
              "          await google.colab.kernel.invokeFunction('convertToInteractive',\n",
              "                                                    [key], {});\n",
              "        if (!dataTable) return;\n",
              "\n",
              "        const docLinkHtml = 'Like what you see? Visit the ' +\n",
              "          '<a target=\"_blank\" href=https://colab.research.google.com/notebooks/data_table.ipynb>data table notebook</a>'\n",
              "          + ' to learn more about interactive tables.';\n",
              "        element.innerHTML = '';\n",
              "        dataTable['output_type'] = 'display_data';\n",
              "        await google.colab.output.renderOutput(dataTable, element);\n",
              "        const docLink = document.createElement('div');\n",
              "        docLink.innerHTML = docLinkHtml;\n",
              "        element.appendChild(docLink);\n",
              "      }\n",
              "    </script>\n",
              "  </div>\n",
              "\n",
              "\n",
              "    <div id=\"df-dbac3a12-dd5e-49dd-b117-565d0d9f4d10\">\n",
              "      <button class=\"colab-df-quickchart\" onclick=\"quickchart('df-dbac3a12-dd5e-49dd-b117-565d0d9f4d10')\"\n",
              "                title=\"Suggest charts\"\n",
              "                style=\"display:none;\">\n",
              "\n",
              "<svg xmlns=\"http://www.w3.org/2000/svg\" height=\"24px\"viewBox=\"0 0 24 24\"\n",
              "     width=\"24px\">\n",
              "    <g>\n",
              "        <path d=\"M19 3H5c-1.1 0-2 .9-2 2v14c0 1.1.9 2 2 2h14c1.1 0 2-.9 2-2V5c0-1.1-.9-2-2-2zM9 17H7v-7h2v7zm4 0h-2V7h2v10zm4 0h-2v-4h2v4z\"/>\n",
              "    </g>\n",
              "</svg>\n",
              "      </button>\n",
              "\n",
              "<style>\n",
              "  .colab-df-quickchart {\n",
              "      --bg-color: #E8F0FE;\n",
              "      --fill-color: #1967D2;\n",
              "      --hover-bg-color: #E2EBFA;\n",
              "      --hover-fill-color: #174EA6;\n",
              "      --disabled-fill-color: #AAA;\n",
              "      --disabled-bg-color: #DDD;\n",
              "  }\n",
              "\n",
              "  [theme=dark] .colab-df-quickchart {\n",
              "      --bg-color: #3B4455;\n",
              "      --fill-color: #D2E3FC;\n",
              "      --hover-bg-color: #434B5C;\n",
              "      --hover-fill-color: #FFFFFF;\n",
              "      --disabled-bg-color: #3B4455;\n",
              "      --disabled-fill-color: #666;\n",
              "  }\n",
              "\n",
              "  .colab-df-quickchart {\n",
              "    background-color: var(--bg-color);\n",
              "    border: none;\n",
              "    border-radius: 50%;\n",
              "    cursor: pointer;\n",
              "    display: none;\n",
              "    fill: var(--fill-color);\n",
              "    height: 32px;\n",
              "    padding: 0;\n",
              "    width: 32px;\n",
              "  }\n",
              "\n",
              "  .colab-df-quickchart:hover {\n",
              "    background-color: var(--hover-bg-color);\n",
              "    box-shadow: 0 1px 2px rgba(60, 64, 67, 0.3), 0 1px 3px 1px rgba(60, 64, 67, 0.15);\n",
              "    fill: var(--button-hover-fill-color);\n",
              "  }\n",
              "\n",
              "  .colab-df-quickchart-complete:disabled,\n",
              "  .colab-df-quickchart-complete:disabled:hover {\n",
              "    background-color: var(--disabled-bg-color);\n",
              "    fill: var(--disabled-fill-color);\n",
              "    box-shadow: none;\n",
              "  }\n",
              "\n",
              "  .colab-df-spinner {\n",
              "    border: 2px solid var(--fill-color);\n",
              "    border-color: transparent;\n",
              "    border-bottom-color: var(--fill-color);\n",
              "    animation:\n",
              "      spin 1s steps(1) infinite;\n",
              "  }\n",
              "\n",
              "  @keyframes spin {\n",
              "    0% {\n",
              "      border-color: transparent;\n",
              "      border-bottom-color: var(--fill-color);\n",
              "      border-left-color: var(--fill-color);\n",
              "    }\n",
              "    20% {\n",
              "      border-color: transparent;\n",
              "      border-left-color: var(--fill-color);\n",
              "      border-top-color: var(--fill-color);\n",
              "    }\n",
              "    30% {\n",
              "      border-color: transparent;\n",
              "      border-left-color: var(--fill-color);\n",
              "      border-top-color: var(--fill-color);\n",
              "      border-right-color: var(--fill-color);\n",
              "    }\n",
              "    40% {\n",
              "      border-color: transparent;\n",
              "      border-right-color: var(--fill-color);\n",
              "      border-top-color: var(--fill-color);\n",
              "    }\n",
              "    60% {\n",
              "      border-color: transparent;\n",
              "      border-right-color: var(--fill-color);\n",
              "    }\n",
              "    80% {\n",
              "      border-color: transparent;\n",
              "      border-right-color: var(--fill-color);\n",
              "      border-bottom-color: var(--fill-color);\n",
              "    }\n",
              "    90% {\n",
              "      border-color: transparent;\n",
              "      border-bottom-color: var(--fill-color);\n",
              "    }\n",
              "  }\n",
              "</style>\n",
              "\n",
              "      <script>\n",
              "        async function quickchart(key) {\n",
              "          const quickchartButtonEl =\n",
              "            document.querySelector('#' + key + ' button');\n",
              "          quickchartButtonEl.disabled = true;  // To prevent multiple clicks.\n",
              "          quickchartButtonEl.classList.add('colab-df-spinner');\n",
              "          try {\n",
              "            const charts = await google.colab.kernel.invokeFunction(\n",
              "                'suggestCharts', [key], {});\n",
              "          } catch (error) {\n",
              "            console.error('Error during call to suggestCharts:', error);\n",
              "          }\n",
              "          quickchartButtonEl.classList.remove('colab-df-spinner');\n",
              "          quickchartButtonEl.classList.add('colab-df-quickchart-complete');\n",
              "        }\n",
              "        (() => {\n",
              "          let quickchartButtonEl =\n",
              "            document.querySelector('#df-dbac3a12-dd5e-49dd-b117-565d0d9f4d10 button');\n",
              "          quickchartButtonEl.style.display =\n",
              "            google.colab.kernel.accessAllowed ? 'block' : 'none';\n",
              "        })();\n",
              "      </script>\n",
              "    </div>\n",
              "\n",
              "  <div id=\"id_0d3f5292-d5cc-4074-8ef9-16659fbac701\">\n",
              "    <style>\n",
              "      .colab-df-generate {\n",
              "        background-color: #E8F0FE;\n",
              "        border: none;\n",
              "        border-radius: 50%;\n",
              "        cursor: pointer;\n",
              "        display: none;\n",
              "        fill: #1967D2;\n",
              "        height: 32px;\n",
              "        padding: 0 0 0 0;\n",
              "        width: 32px;\n",
              "      }\n",
              "\n",
              "      .colab-df-generate:hover {\n",
              "        background-color: #E2EBFA;\n",
              "        box-shadow: 0px 1px 2px rgba(60, 64, 67, 0.3), 0px 1px 3px 1px rgba(60, 64, 67, 0.15);\n",
              "        fill: #174EA6;\n",
              "      }\n",
              "\n",
              "      [theme=dark] .colab-df-generate {\n",
              "        background-color: #3B4455;\n",
              "        fill: #D2E3FC;\n",
              "      }\n",
              "\n",
              "      [theme=dark] .colab-df-generate:hover {\n",
              "        background-color: #434B5C;\n",
              "        box-shadow: 0px 1px 3px 1px rgba(0, 0, 0, 0.15);\n",
              "        filter: drop-shadow(0px 1px 2px rgba(0, 0, 0, 0.3));\n",
              "        fill: #FFFFFF;\n",
              "      }\n",
              "    </style>\n",
              "    <button class=\"colab-df-generate\" onclick=\"generateWithVariable('dataframe')\"\n",
              "            title=\"Generate code using this dataframe.\"\n",
              "            style=\"display:none;\">\n",
              "\n",
              "  <svg xmlns=\"http://www.w3.org/2000/svg\" height=\"24px\"viewBox=\"0 0 24 24\"\n",
              "       width=\"24px\">\n",
              "    <path d=\"M7,19H8.4L18.45,9,17,7.55,7,17.6ZM5,21V16.75L18.45,3.32a2,2,0,0,1,2.83,0l1.4,1.43a1.91,1.91,0,0,1,.58,1.4,1.91,1.91,0,0,1-.58,1.4L9.25,21ZM18.45,9,17,7.55Zm-12,3A5.31,5.31,0,0,0,4.9,8.1,5.31,5.31,0,0,0,1,6.5,5.31,5.31,0,0,0,4.9,4.9,5.31,5.31,0,0,0,6.5,1,5.31,5.31,0,0,0,8.1,4.9,5.31,5.31,0,0,0,12,6.5,5.46,5.46,0,0,0,6.5,12Z\"/>\n",
              "  </svg>\n",
              "    </button>\n",
              "    <script>\n",
              "      (() => {\n",
              "      const buttonEl =\n",
              "        document.querySelector('#id_0d3f5292-d5cc-4074-8ef9-16659fbac701 button.colab-df-generate');\n",
              "      buttonEl.style.display =\n",
              "        google.colab.kernel.accessAllowed ? 'block' : 'none';\n",
              "\n",
              "      buttonEl.onclick = () => {\n",
              "        google.colab.notebook.generateWithVariable('dataframe');\n",
              "      }\n",
              "      })();\n",
              "    </script>\n",
              "  </div>\n",
              "\n",
              "    </div>\n",
              "  </div>\n"
            ],
            "application/vnd.google.colaboratory.intrinsic+json": {
              "type": "dataframe",
              "variable_name": "dataframe",
              "summary": "{\n  \"name\": \"dataframe\",\n  \"rows\": 9,\n  \"fields\": [\n    {\n      \"column\": \"Conocimientos_previos\",\n      \"properties\": {\n        \"dtype\": \"string\",\n        \"num_unique_values\": 9,\n        \"samples\": [\n          \"DL\",\n          \"Data Wrangling\",\n          \"Est. Inferencial\"\n        ],\n        \"semantic_type\": \"\",\n        \"description\": \"\"\n      }\n    },\n    {\n      \"column\": \"q_alumnos\",\n      \"properties\": {\n        \"dtype\": \"number\",\n        \"std\": 9,\n        \"min\": 5,\n        \"max\": 31,\n        \"num_unique_values\": 7,\n        \"samples\": [\n          5,\n          10,\n          25\n        ],\n        \"semantic_type\": \"\",\n        \"description\": \"\"\n      }\n    }\n  ]\n}"
            }
          },
          "metadata": {},
          "execution_count": 35
        }
      ]
    },
    {
      "cell_type": "code",
      "source": [
        "plt.figure (figsize=(16,9))\n",
        "sns.set_style(\"darkgrid\")\n",
        "\n",
        "ax = sns.barplot(x=\"Conocimientos_previos\" , y=\"q_alumnos\", data=dataframe)\n",
        "plt.show ()"
      ],
      "metadata": {
        "colab": {
          "base_uri": "https://localhost:8080/",
          "height": 773
        },
        "id": "mvr1imtp_J87",
        "outputId": "57e1a4ce-16ba-425a-b213-05c218a68d38"
      },
      "execution_count": null,
      "outputs": [
        {
          "output_type": "display_data",
          "data": {
            "text/plain": [
              "<Figure size 1600x900 with 1 Axes>"
            ],
            "image/png": "[encoded data removed]"
          },
          "metadata": {}
        }
      ]
    },
    {
      "cell_type": "code",
      "source": [
        "mi_primer_variable = \"Messi\"\n",
        "\n",
        "print(mi_primer_variable)"
      ],
      "metadata": {
        "colab": {
          "base_uri": "https://localhost:8080/"
        },
        "id": "Cyl8Y2tNn-mQ",
        "outputId": "890809d1-1928-4c90-a76c-bcd150ad374f"
      },
      "execution_count": null,
      "outputs": [
        {
          "output_type": "stream",
          "name": "stdout",
          "text": [
            "Messi\n"
          ]
        }
      ]
    },
    {
      "cell_type": "code",
      "source": [
        "mi_primer_variable:str = 10000000\n",
        "\n",
        "print(mi_primer_variable)"
      ],
      "metadata": {
        "colab": {
          "base_uri": "https://localhost:8080/"
        },
        "id": "KqmqMYSopFXQ",
        "outputId": "4056c726-70f7-43b1-b8c7-4deba7be6bd6"
      },
      "execution_count": null,
      "outputs": [
        {
          "output_type": "stream",
          "name": "stdout",
          "text": [
            "10000000\n"
          ]
        }
      ]
    },
    {
      "cell_type": "markdown",
      "source": [
        "Vamos a hacer un saludador"
      ],
      "metadata": {
        "id": "IrKpSuJeCanc"
      }
    },
    {
      "cell_type": "code",
      "source": [
        "# nombre:str = input(\"Me podrias indicar nombre?:\\t\")\n",
        "\n",
        "# saludo = \"Hola, amigo tu nombre es:\" + nombre\n",
        "\n",
        "# saludo"
      ],
      "metadata": {
        "id": "1aXnkXJWChl-"
      },
      "execution_count": null,
      "outputs": []
    },
    {
      "cell_type": "code",
      "source": [
        "# Sumatoria hasta el número 2_000\n",
        "\n",
        "numeros = list(range(1,2000,2))\n",
        "sumatoria = sum(numeros)\n",
        "\n",
        "sumatoria"
      ],
      "metadata": {
        "colab": {
          "base_uri": "https://localhost:8080/"
        },
        "id": "GPNgEOroD5hw",
        "outputId": "d8a50677-1a1f-4348-91ab-f2e2808795a4"
      },
      "execution_count": null,
      "outputs": [
        {
          "output_type": "execute_result",
          "data": {
            "text/plain": [
              "1000000"
            ]
          },
          "metadata": {},
          "execution_count": 40
        }
      ]
    },
    {
      "cell_type": "code",
      "source": [
        "import math\n",
        "import random\n"
      ],
      "metadata": {
        "id": "sGzfaPDRGK-I"
      },
      "execution_count": null,
      "outputs": []
    },
    {
      "cell_type": "code",
      "source": [
        "# math.pi *\n",
        "\n",
        "variable_iteracion = []\n",
        "\n",
        "for numero_rango in list(range(1,100)):\n",
        "  numero_aleatorio = random.random() * numero_rango\n",
        "  variable_iteracion.append(numero_aleatorio)\n",
        "\n"
      ],
      "metadata": {
        "id": "KRnM-SUEHXPr"
      },
      "execution_count": null,
      "outputs": []
    },
    {
      "cell_type": "code",
      "source": [
        "contador = 0\n",
        "variable_mostrar = variable_iteracion[contador]\n",
        "\n",
        "while variable_mostrar < 30 :\n",
        "  print(variable_mostrar)\n",
        "  contador = contador +1\n",
        "  variable_mostrar = variable_iteracion[contador]\n",
        "else:\n",
        "  print(\"Ya estoy afera y el siguiente numero va a ser mayor a 30\")"
      ],
      "metadata": {
        "colab": {
          "base_uri": "https://localhost:8080/"
        },
        "id": "F0yeW3X4U7Nh",
        "outputId": "a70de217-e236-40c0-c44c-7f63455cd7ea"
      },
      "execution_count": null,
      "outputs": [
        {
          "output_type": "stream",
          "name": "stdout",
          "text": [
            "0.5458181078313866\n",
            "1.3907304666024187\n",
            "1.5307592232317977\n",
            "2.5000627676846765\n",
            "1.2678077224610846\n",
            "0.01595436190779087\n",
            "3.471670498418168\n",
            "0.5994389217051701\n",
            "1.3941630680128174\n",
            "4.116594546927757\n",
            "1.9600322743048788\n",
            "8.279311430570402\n",
            "6.818443980003297\n",
            "5.76989708164469\n",
            "12.160315977072747\n",
            "4.007523410542113\n",
            "12.665914389551736\n",
            "3.6676725975632696\n",
            "3.57383387831811\n",
            "10.232583461614905\n",
            "6.081923391743137\n",
            "17.279521982547237\n",
            "10.91790950336159\n",
            "23.626661260015503\n",
            "24.620517046932243\n",
            "23.938923592335787\n",
            "10.30333587132979\n",
            "9.363454573068609\n",
            "11.8199783644513\n",
            "25.143516537294616\n",
            "12.918004318953455\n",
            "24.96124679982704\n",
            "26.07698164283937\n",
            "Ya estoy afera y el siguiente numero va a ser mayor a 30\n"
          ]
        }
      ]
    },
    {
      "cell_type": "code",
      "source": [
        "## functions -> bloques determinados por un retorno de valo y por medio de parametros de entrada\n",
        "# definen su comportamiento\n",
        "\n",
        "def breaker_printer(lista_iterable:list, tope: int) -> str:\n",
        "  contador = 0\n",
        "  while lista_iterable[contador] < tope :\n",
        "      print(f\"El numero de iteracion es: {contador} -> su valor es \\t  {lista_iterable[contador]:.3f}\")\n",
        "      contador += 1\n",
        "\n",
        "  else:\n",
        "      return f\"Ya estoy afera y el siguiente numero va a ser mayor a {tope}\"\n"
      ],
      "metadata": {
        "id": "HdbxW002WVe_"
      },
      "execution_count": null,
      "outputs": []
    },
    {
      "cell_type": "code",
      "source": [
        "\n",
        "breaker_printer(variable_iteracion, 40)\n"
      ],
      "metadata": {
        "colab": {
          "base_uri": "https://localhost:8080/",
          "height": 817
        },
        "id": "64ETL5o6kU5P",
        "outputId": "f5dc87cd-41a1-461f-94e4-a32451677711"
      },
      "execution_count": null,
      "outputs": [
        {
          "output_type": "stream",
          "name": "stdout",
          "text": [
            "El numero de iteracion es: 0 -> su valor es \t  0.546\n",
            "El numero de iteracion es: 1 -> su valor es \t  1.391\n",
            "El numero de iteracion es: 2 -> su valor es \t  1.531\n",
            "El numero de iteracion es: 3 -> su valor es \t  2.500\n",
            "El numero de iteracion es: 4 -> su valor es \t  1.268\n",
            "El numero de iteracion es: 5 -> su valor es \t  0.016\n",
            "El numero de iteracion es: 6 -> su valor es \t  3.472\n",
            "El numero de iteracion es: 7 -> su valor es \t  0.599\n",
            "El numero de iteracion es: 8 -> su valor es \t  1.394\n",
            "El numero de iteracion es: 9 -> su valor es \t  4.117\n",
            "El numero de iteracion es: 10 -> su valor es \t  1.960\n",
            "El numero de iteracion es: 11 -> su valor es \t  8.279\n",
            "El numero de iteracion es: 12 -> su valor es \t  6.818\n",
            "El numero de iteracion es: 13 -> su valor es \t  5.770\n",
            "El numero de iteracion es: 14 -> su valor es \t  12.160\n",
            "El numero de iteracion es: 15 -> su valor es \t  4.008\n",
            "El numero de iteracion es: 16 -> su valor es \t  12.666\n",
            "El numero de iteracion es: 17 -> su valor es \t  3.668\n",
            "El numero de iteracion es: 18 -> su valor es \t  3.574\n",
            "El numero de iteracion es: 19 -> su valor es \t  10.233\n",
            "El numero de iteracion es: 20 -> su valor es \t  6.082\n",
            "El numero de iteracion es: 21 -> su valor es \t  17.280\n",
            "El numero de iteracion es: 22 -> su valor es \t  10.918\n",
            "El numero de iteracion es: 23 -> su valor es \t  23.627\n",
            "El numero de iteracion es: 24 -> su valor es \t  24.621\n",
            "El numero de iteracion es: 25 -> su valor es \t  23.939\n",
            "El numero de iteracion es: 26 -> su valor es \t  10.303\n",
            "El numero de iteracion es: 27 -> su valor es \t  9.363\n",
            "El numero de iteracion es: 28 -> su valor es \t  11.820\n",
            "El numero de iteracion es: 29 -> su valor es \t  25.144\n",
            "El numero de iteracion es: 30 -> su valor es \t  12.918\n",
            "El numero de iteracion es: 31 -> su valor es \t  24.961\n",
            "El numero de iteracion es: 32 -> su valor es \t  26.077\n",
            "El numero de iteracion es: 33 -> su valor es \t  31.325\n",
            "El numero de iteracion es: 34 -> su valor es \t  19.378\n",
            "El numero de iteracion es: 35 -> su valor es \t  17.665\n",
            "El numero de iteracion es: 36 -> su valor es \t  16.315\n",
            "El numero de iteracion es: 37 -> su valor es \t  36.866\n",
            "El numero de iteracion es: 38 -> su valor es \t  2.308\n",
            "El numero de iteracion es: 39 -> su valor es \t  8.232\n",
            "El numero de iteracion es: 40 -> su valor es \t  20.036\n",
            "El numero de iteracion es: 41 -> su valor es \t  21.571\n",
            "El numero de iteracion es: 42 -> su valor es \t  14.360\n",
            "El numero de iteracion es: 43 -> su valor es \t  22.104\n",
            "El numero de iteracion es: 44 -> su valor es \t  2.771\n"
          ]
        },
        {
          "output_type": "execute_result",
          "data": {
            "text/plain": [
              "'Ya estoy afera y el siguiente numero va a ser mayor a 40'"
            ],
            "application/vnd.google.colaboratory.intrinsic+json": {
              "type": "string"
            }
          },
          "metadata": {},
          "execution_count": 51
        }
      ]
    },
    {
      "cell_type": "code",
      "source": [
        "iterable = [ x for x in random.sample(range(1,100),50)]\n",
        "\n",
        "# una funcion que me otorgue el valor maximo\n",
        "\n",
        "\n",
        "def valor_max( x:list ) -> int:\n",
        "  maximo = x[0]\n",
        "\n",
        "  for numero in x:\n",
        "    if numero > maximo:\n",
        "        maximo = numero\n",
        "\n",
        "  return maximo\n",
        "\n",
        "\n",
        "valor_max(iterable)"
      ],
      "metadata": {
        "colab": {
          "base_uri": "https://localhost:8080/"
        },
        "id": "2uUo5NNLmrDU",
        "outputId": "d0bfd199-a03e-4b42-9872-a612fb582b60"
      },
      "execution_count": null,
      "outputs": [
        {
          "output_type": "execute_result",
          "data": {
            "text/plain": [
              "99"
            ]
          },
          "metadata": {},
          "execution_count": 64
        }
      ]
    }
  ]
}