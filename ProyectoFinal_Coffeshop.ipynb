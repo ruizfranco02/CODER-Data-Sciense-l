{
 "cells": [
  {
   "cell_type": "markdown",
   "id": "20faf2bd",
   "metadata": {},
   "source": [
    "# Proyecto Final — Predicción del Total de Venta en Coffee Shop\n",
    "### Autor: *Estudiante*\n",
    "\n",
    "Este notebook forma parte del **proyecto final** para aplicar técnicas de *feature selection*, *regresión* y *evaluación de métricas*.\n",
    "El objetivo es predecir el monto total de una transacción (`Total_Bill`) utilizando un dataset de ventas de una cafetería."
   ]
  },
  {
   "cell_type": "markdown",
   "id": "ccebac05",
   "metadata": {},
   "source": [
    "## 1. Carga de librerías y dataset"
   ]
  },
  {
   "cell_type": "code",
   "execution_count": null,
   "id": "6aa44002",
   "metadata": {},
   "outputs": [],
   "source": [
    "\n",
    "import pandas as pd\n",
    "import numpy as np\n",
    "from sklearn.model_selection import train_test_split\n",
    "from sklearn.preprocessing import StandardScaler\n",
    "from sklearn.ensemble import RandomForestRegressor\n",
    "from sklearn.feature_selection import SelectFromModel\n",
    "from sklearn.impute import SimpleImputer\n",
    "from sklearn.metrics import mean_squared_error, r2_score\n",
    "import matplotlib.pyplot as plt\n",
    "\n",
    "# Cargar dataset\n",
    "df = pd.read_csv('Dataset Coffeshop.csv')\n",
    "df.head()\n"
   ]
  },
  {
   "cell_type": "markdown",
   "id": "0b527f1a",
   "metadata": {},
   "source": [
    "## 2. Exploración inicial del dataset"
   ]
  },
  {
   "cell_type": "code",
   "execution_count": null,
   "id": "3030108b",
   "metadata": {},
   "outputs": [],
   "source": [
    "\n",
    "print(\"Dimensiones:\", df.shape)\n",
    "print(\"Columnas:\", df.columns.tolist())\n",
    "print(\"\\nValores nulos por columna:\\n\", df.isnull().sum())\n",
    "df.describe(include='all').T.head(15)\n"
   ]
  },
  {
   "cell_type": "markdown",
   "id": "afc985c6",
   "metadata": {},
   "source": [
    "## 3. Selección del target y preparación de features"
   ]
  },
  {
   "cell_type": "code",
   "execution_count": null,
   "id": "01431721",
   "metadata": {},
   "outputs": [],
   "source": [
    "\n",
    "target_col = 'Total_Bill'\n",
    "drop_cols = ['transaction_id', 'transaction_date', 'transaction_time']\n",
    "features = [c for c in df.columns if c not in drop_cols + [target_col]]\n",
    "\n",
    "df2 = df[features + [target_col]].copy()\n",
    "num_cols = df2.select_dtypes(include=[np.number]).columns.tolist()\n",
    "cat_cols = [c for c in df2.columns if c not in num_cols and c != target_col]\n",
    "\n",
    "imp_num = SimpleImputer(strategy='median')\n",
    "imp_cat = SimpleImputer(strategy='most_frequent')\n",
    "if num_cols: df2[num_cols] = imp_num.fit_transform(df2[num_cols])\n",
    "if cat_cols: df2[cat_cols] = imp_cat.fit_transform(df2[cat_cols])\n",
    "\n",
    "df_enc = pd.get_dummies(df2.drop(columns=[target_col]), drop_first=True)\n",
    "scaler = StandardScaler()\n",
    "X_scaled = scaler.fit_transform(df_enc)\n",
    "y = df2[target_col].values\n",
    "\n",
    "print(\"Dimensiones tras one-hot:\", X_scaled.shape)\n"
   ]
  },
  {
   "cell_type": "markdown",
   "id": "f1f79c0c",
   "metadata": {},
   "source": [
    "## 4. Selección de características (Feature Selection)"
   ]
  },
  {
   "cell_type": "code",
   "execution_count": null,
   "id": "7b566f2d",
   "metadata": {},
   "outputs": [],
   "source": [
    "\n",
    "sel_model = RandomForestRegressor(n_estimators=40, random_state=42, n_jobs=1)\n",
    "sample_idx = np.random.RandomState(42).choice(X_scaled.shape[0], min(30000, X_scaled.shape[0]), replace=False)\n",
    "sel_model.fit(X_scaled[sample_idx], y[sample_idx])\n",
    "\n",
    "sfm = SelectFromModel(sel_model, prefit=True, threshold='median')\n",
    "X_reduced = sfm.transform(X_scaled)\n",
    "selected_features = df_enc.columns[sfm.get_support()].tolist()\n",
    "\n",
    "print(\"Features seleccionadas:\", len(selected_features))\n"
   ]
  },
  {
   "cell_type": "markdown",
   "id": "b495f6c2",
   "metadata": {},
   "source": [
    "## 5. Entrenamiento del modelo de regresión"
   ]
  },
  {
   "cell_type": "code",
   "execution_count": null,
   "id": "b66f7233",
   "metadata": {},
   "outputs": [],
   "source": [
    "\n",
    "X_train_full, X_test_full, y_train_full, y_test_full = train_test_split(X_reduced, y, test_size=0.2, random_state=42)\n",
    "\n",
    "# Muestreo para entrenamiento rápido\n",
    "train_sample_size = min(30000, X_train_full.shape[0])\n",
    "train_idx = np.random.RandomState(1).choice(X_train_full.shape[0], train_sample_size, replace=False)\n",
    "X_train = X_train_full[train_idx]\n",
    "y_train = y_train_full[train_idx]\n",
    "X_test = X_test_full\n",
    "y_test = y_test_full\n",
    "\n",
    "final_model = RandomForestRegressor(n_estimators=80, random_state=42, n_jobs=1)\n",
    "final_model.fit(X_train, y_train)\n",
    "y_pred = final_model.predict(X_test)\n",
    "\n",
    "mse = mean_squared_error(y_test, y_pred)\n",
    "rmse = np.sqrt(mse)\n",
    "r2 = r2_score(y_test, y_pred)\n",
    "print(f\"MSE: {mse:.4f}, RMSE: {rmse:.4f}, R2: {r2:.4f}\")\n"
   ]
  },
  {
   "cell_type": "markdown",
   "id": "f28ae855",
   "metadata": {},
   "source": [
    "## 6. Importancia de características"
   ]
  },
  {
   "cell_type": "code",
   "execution_count": null,
   "id": "50cf587d",
   "metadata": {},
   "outputs": [],
   "source": [
    "\n",
    "importances = pd.Series(final_model.feature_importances_, index=selected_features).sort_values(ascending=False)\n",
    "importances.head(20).plot(kind='barh', figsize=(6,6), title='Top 20 Features Importantes')\n",
    "plt.show()\n"
   ]
  },
  {
   "cell_type": "markdown",
   "id": "5686819b",
   "metadata": {},
   "source": [
    "## 7. Evaluación visual (Predicciones vs Reales)"
   ]
  },
  {
   "cell_type": "code",
   "execution_count": null,
   "id": "4387d3e8",
   "metadata": {},
   "outputs": [],
   "source": [
    "\n",
    "plt.figure(figsize=(6,5))\n",
    "plt.scatter(y_test, y_pred, alpha=0.2)\n",
    "plt.xlabel('True Total_Bill')\n",
    "plt.ylabel('Predicted Total_Bill')\n",
    "plt.title('Real vs Predicho')\n",
    "plt.tight_layout()\n",
    "plt.show()\n"
   ]
  },
  {
   "cell_type": "markdown",
   "id": "3893ef6a",
   "metadata": {},
   "source": [
    "## 8. Conclusiones"
   ]
  },
  {
   "cell_type": "markdown",
   "id": "7a8d471a",
   "metadata": {},
   "source": [
    "\n",
    "- **Target:** `Total_Bill`\n",
    "- **Feature selection:** RandomForest con umbral de importancia mediana → reducción de 103 a ~52 features.\n",
    "- **Modelo:** RandomForestRegressor (80 árboles, muestreo de 30k filas).\n",
    "- **Resultados:**  \n",
    "  - R² ≈ 0.90  \n",
    "  - RMSE ≈ 1.46  \n",
    "- **Conclusión:** El modelo logra predecir con alta precisión el monto total de la cuenta.  \n",
    "  Posibles mejoras: ajustar hiperparámetros, probar XGBoost o LightGBM, agregar variables derivadas (ej. `qty * unit_price`)."
   ]
  }
 ],
 "metadata": {},
 "nbformat": 4,
 "nbformat_minor": 5
}
